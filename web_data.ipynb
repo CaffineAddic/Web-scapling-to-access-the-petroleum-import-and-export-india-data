{
 "cells": [
  {
   "cell_type": "code",
   "execution_count": 5,
   "metadata": {},
   "outputs": [],
   "source": [
    "import requests\n",
    "from bs4 import BeautifulSoup"
   ]
  },
  {
   "cell_type": "code",
   "execution_count": 6,
   "metadata": {},
   "outputs": [
    {
     "name": "stdout",
     "output_type": "stream",
     "text": [
      "<title>codedamn Web Scraper demo</title> <head>\n",
      "<!-- Anti-flicker snippet (recommended)  -->\n",
      "<style>\n",
      "\t\t\t.async-hide {\n",
      "\t\t\t\topacity: 0 !important;\n",
      "\t\t\t}\n",
      "\t\t</style>\n",
      "<title>codedamn Web Scraper demo</title>\n",
      "<meta charset=\"utf-8\"/>\n",
      "<meta content=\"IE=edge,chrome=1\" http-equiv=\"X-UA-Compatible\"/>\n",
      "<meta content=\"web scraping,Web Scraper,Chrome extension,Crawling,Cross platform scraper, \" name=\"keywords\"/>\n",
      "<meta content=\"The most popular web scraping website.\" name=\"description\"/>\n",
      "<link href=\"/webscraper-python-codedamn-classroom-website/favicon.png\" rel=\"icon\" sizes=\"128x128\"/>\n",
      "<meta content=\"width=device-width, initial-scale=1.0\" name=\"viewport\"/>\n",
      "<link href=\"/webscraper-python-codedamn-classroom-website/app.css\" rel=\"stylesheet\"/>\n",
      "<link href=\"/webscraper-python-codedamn-classroom-website/logo-icon.png\" rel=\"apple-touch-icon\"/>\n",
      "<script defer=\"\" src=\"/webscraper-python-codedamn-classroom-website/app.js\"></script>\n",
      "</head>\n"
     ]
    }
   ],
   "source": [
    "# Make a request\n",
    "page = requests.get(\n",
    "    \"https://codedamn-classrooms.github.io/webscraper-python-codedamn-classroom-website/\")\n",
    "soup = BeautifulSoup(page.content, 'html.parser')\n",
    "\n",
    "# Extract title of page\n",
    "page_title = soup.title\n",
    "\n",
    "# Extract body of page\n",
    "page_body = soup.body\n",
    "\n",
    "# Extract head of page\n",
    "page_head = soup.head\n",
    "\n",
    "# print the result\n",
    "print(page_title, page_head)"
   ]
  },
  {
   "cell_type": "code",
   "execution_count": null,
   "metadata": {},
   "outputs": [],
   "source": []
  }
 ],
 "metadata": {
  "kernelspec": {
   "display_name": "code",
   "language": "python",
   "name": "python3"
  },
  "language_info": {
   "codemirror_mode": {
    "name": "ipython",
    "version": 3
   },
   "file_extension": ".py",
   "mimetype": "text/x-python",
   "name": "python",
   "nbconvert_exporter": "python",
   "pygments_lexer": "ipython3",
   "version": "3.9.16"
  },
  "orig_nbformat": 4
 },
 "nbformat": 4,
 "nbformat_minor": 2
}
